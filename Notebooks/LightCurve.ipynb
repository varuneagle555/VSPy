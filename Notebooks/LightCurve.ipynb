{
 "cells": [
  {
   "cell_type": "code",
   "execution_count": 8,
   "metadata": {},
   "outputs": [
    {
     "ename": "FileNotFoundError",
     "evalue": "[WinError 3] The system cannot find the path specified: 'C:/Projects/varstarp/NGC2180/20161107'",
     "output_type": "error",
     "traceback": [
      "\u001b[1;31m---------------------------------------------------------------------------\u001b[0m",
      "\u001b[1;31mFileNotFoundError\u001b[0m                         Traceback (most recent call last)",
      "\u001b[1;32m<ipython-input-8-2690fefb7294>\u001b[0m in \u001b[0;36m<module>\u001b[1;34m()\u001b[0m\n\u001b[0;32m      3\u001b[0m \u001b[1;32mimport\u001b[0m \u001b[0mglob\u001b[0m\u001b[1;33m,\u001b[0m \u001b[0mos\u001b[0m                     \u001b[1;31m# to grab source files\u001b[0m\u001b[1;33m\u001b[0m\u001b[0m\n\u001b[0;32m      4\u001b[0m \u001b[1;33m\u001b[0m\u001b[0m\n\u001b[1;32m----> 5\u001b[1;33m \u001b[0mos\u001b[0m\u001b[1;33m.\u001b[0m\u001b[0mchdir\u001b[0m\u001b[1;33m(\u001b[0m\u001b[1;34m\"C:/Projects/varstarp/NGC2180/20161107\"\u001b[0m\u001b[1;33m)\u001b[0m\u001b[1;33m\u001b[0m\u001b[0m\n\u001b[0m\u001b[0;32m      6\u001b[0m \u001b[1;33m\u001b[0m\u001b[0m\n\u001b[0;32m      7\u001b[0m \u001b[0mfiles\u001b[0m \u001b[1;33m=\u001b[0m \u001b[0mglob\u001b[0m\u001b[1;33m.\u001b[0m\u001b[0mglob\u001b[0m\u001b[1;33m(\u001b[0m\u001b[1;34m\"*.fts\"\u001b[0m\u001b[1;33m)\u001b[0m       \u001b[1;31m# list of all source files\u001b[0m\u001b[1;33m\u001b[0m\u001b[0m\n",
      "\u001b[1;31mFileNotFoundError\u001b[0m: [WinError 3] The system cannot find the path specified: 'C:/Projects/varstarp/NGC2180/20161107'"
     ]
    }
   ],
   "source": [
    "import numpy as np                  # array manipulation\n",
    "import astropy.io.fits as fits      # fits file manipulation\n",
    "import glob, os                     # to grab source files\n",
    "\n",
    "os.chdir(\"C:/Projects/varstarp/NGC2180/20161107\")\n",
    "\n",
    "files = glob.glob(\"*.fts\")       # list of all source files\n",
    "targ_ra = 128.86346                 # right ascension of target\n",
    "targ_dec = 19.75875                 # declination of target\n",
    "match_r = 2.0                       # source matching radius in arcesc"
   ]
  },
  {
   "cell_type": "code",
   "execution_count": null,
   "metadata": {
    "collapsed": true
   },
   "outputs": [],
   "source": [
    "Nims = len(files)\n",
    "HJD = np.empty(Nims)                # store HJD of observation\n",
    "mag = np.empty(Nims)                # store the magnitude\n",
    "magunc = np.empty(Nims)             # store the mag uncertainty\n",
    "\n",
    "# Now loop over the files to create the light curve\n",
    "for imnum, cat in enumerate(files):\n",
    "    HJD[imnum] = fits.getval(cat, \"HJD\", 2)     # HJD stored in cat header\n",
    "    # vvv New condition is added here vvv\n",
    "    if ( fits.getval(cat, \"PHTCALFL\", 2) == 1 and \n",
    "        fits.getval(cat, \"PCALRMSE\", 2) < 0.04 ):  # phot. conditions?\n",
    "        Sdat = fits.getdata(cat)\n",
    "        Sdat_RA = Sdat[\"ALPHAWIN_J2000\"]            # RA list for cat\n",
    "        Sdat_Dec = Sdat[\"DELTAWIN_J2000\"]           # Dec list for cat\n",
    "        source_sep = np.hypot( \n",
    "        (Sdat_RA - targ_ra) * np.cos(np.radians(targ_dec)), \n",
    "        Sdat_Dec - targ_dec)\n",
    "\n",
    "        # cat source is a match if it is closest to targ and < 2\" away\n",
    "        targ_match = ( (source_sep < match_r/3600.) & \n",
    "            (source_sep == np.min(source_sep)) )\n",
    "    \n",
    "        if sum(targ_match) == 1:\n",
    "            ZP = Sdat[\"ZEROPOINT\"][targ_match][0]\n",
    "            mag[imnum] = Sdat[\"MAG_AUTO\"][targ_match][0] + ZP\n",
    "            magunc[imnum] = Sdat[\"MAGERR_AUTO\"][targ_match][0]\n",
    "        else:\n",
    "            mag[imnum] = -99.           # non-detection\n",
    "            magunc[imnum] = -99.        # non-detection\n",
    "    else:\n",
    "        mag[imnum] = -99.           # non-detection\n",
    "        magunc[imnum] = -99.        # non-detection"
   ]
  },
  {
   "cell_type": "code",
   "execution_count": null,
   "metadata": {
    "collapsed": true
   },
   "outputs": [],
   "source": [
    "targ_det = mag != -99.          # identify epochs where targ is detected\n",
    "\n",
    "# plot mag vs HJD along with uncertainties\n",
    "figure(figsize(13,8))\n",
    "errorbar(HJD[targ_det], mag[targ_det], magunc[targ_det], fmt='ok')\n",
    "ylim(np.max(mag[targ_det]) + 0.3, np.min(mag[targ_det]) - 0.3)\n",
    "xlim(np.min(HJD[targ_det]) - 15, np.max(HJD[targ_det]) + 15)\n",
    "xlabel(r'${\\rm HJD}$', fontsize=18)\n",
    "ylabel(r'$R \\; {\\rm mag}$', fontsize=18)\n",
    "\n",
    "print \"The LC scatter = %5.3f mag\" % np.std(mag[targ_det])"
   ]
  },
  {
   "cell_type": "markdown",
   "metadata": {},
   "source": [
    "## Links\n",
    "* http://phares.caltech.edu/iptf/iptf_SummerSchool_2014/Miller2_problems.html"
   ]
  },
  {
   "cell_type": "code",
   "execution_count": null,
   "metadata": {
    "collapsed": true
   },
   "outputs": [],
   "source": []
  }
 ],
 "metadata": {
  "kernelspec": {
   "display_name": "Python 3",
   "language": "python",
   "name": "python3"
  },
  "language_info": {
   "codemirror_mode": {
    "name": "ipython",
    "version": 3
   },
   "file_extension": ".py",
   "mimetype": "text/x-python",
   "name": "python",
   "nbconvert_exporter": "python",
   "pygments_lexer": "ipython3",
   "version": "3.6.4"
  }
 },
 "nbformat": 4,
 "nbformat_minor": 2
}
