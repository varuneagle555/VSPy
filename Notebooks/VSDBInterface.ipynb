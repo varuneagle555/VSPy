{
 "cells": [
  {
   "cell_type": "code",
   "execution_count": 3,
   "metadata": {
    "collapsed": true
   },
   "outputs": [],
   "source": [
    "import sqlite3"
   ]
  },
  {
   "cell_type": "code",
   "execution_count": 4,
   "metadata": {
    "collapsed": true
   },
   "outputs": [],
   "source": [
    "#Establishing Connection\n",
    "conn = sqlite3.connect('vs.db')\n",
    "cur = conn.cursor()"
   ]
  },
  {
   "cell_type": "code",
   "execution_count": 35,
   "metadata": {
    "collapsed": true
   },
   "outputs": [],
   "source": [
    "def insertStack(id, date, filter, exptime, loc):\n",
    "    string = (stackID, date, filter, exp[0], loc)\n",
    "    res = conn.execute('INSERT INTO StackTable(StackID, Date, Filter, Exptime, Location) VALUES (?,?,?,?,?)', string)\n",
    "    conn.commit()\n",
    "    return res\n"
   ]
  },
  {
   "cell_type": "code",
   "execution_count": 37,
   "metadata": {
    "scrolled": true
   },
   "outputs": [
    {
     "data": {
      "text/plain": [
       "<sqlite3.Cursor at 0x1eb56ffd880>"
      ]
     },
     "execution_count": 37,
     "metadata": {},
     "output_type": "execute_result"
    }
   ],
   "source": [
    "#TODO make a combination of stackid and starid a unique key\n",
    "def insertStar(stackid, starid, star_loc):\n",
    "    string = (stackid, starid, star_loc)\n",
    "    res = conn.execute('INSERT INTO StarTable(StackID, StarID, S_Location) VALUES (?,?,?)', string)\n",
    "    conn.commit()\n",
    "    return res"
   ]
  },
  {
   "cell_type": "code",
   "execution_count": 1,
   "metadata": {
    "scrolled": true
   },
   "outputs": [],
   "source": [
    "def insertLightCurve(starid, JD, mag):\n",
    "    if len(JD) == len(mag):\n",
    "        for i in range(0, len(JD)):\n",
    "            string = (starid, JD[i], mag[i])\n",
    "            res = conn.execute('INSERT INTO S_LightCurve(StackID, StarID, S_Location) VALUES (?,?,?)', string)\n",
    "        conn.commit()\n",
    "    else:\n",
    "        raise ValueError('The lengths of JD and Mag are different')\n",
    "        res = None\n",
    "    return res"
   ]
  },
  {
   "cell_type": "code",
   "execution_count": 12,
   "metadata": {},
   "outputs": [
    {
     "name": "stdout",
     "output_type": "stream",
     "text": [
      "0\n"
     ]
    }
   ],
   "source": [
    "cur.execute('SELECT count(StackID) FROM StackTable')\n",
    "res = cur.fetchone()\n",
    "print(res[0])"
   ]
  },
  {
   "cell_type": "code",
   "execution_count": 13,
   "metadata": {
    "collapsed": true
   },
   "outputs": [],
   "source": [
    "#Closing the DB\n",
    "cur.close()\n",
    "conn.close()"
   ]
  },
  {
   "cell_type": "code",
   "execution_count": null,
   "metadata": {
    "collapsed": true
   },
   "outputs": [],
   "source": [
    "#The Join operation is one to look into for RDBMS tasks as in connecting databases\n",
    "#Deleting Contents of a Stack needs to be added\n"
   ]
  }
 ],
 "metadata": {
  "kernelspec": {
   "display_name": "Python 3",
   "language": "python",
   "name": "python3"
  },
  "language_info": {
   "codemirror_mode": {
    "name": "ipython",
    "version": 3
   },
   "file_extension": ".py",
   "mimetype": "text/x-python",
   "name": "python",
   "nbconvert_exporter": "python",
   "pygments_lexer": "ipython3",
   "version": "3.6.4"
  }
 },
 "nbformat": 4,
 "nbformat_minor": 2
}
