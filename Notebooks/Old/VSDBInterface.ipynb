{
 "cells": [
  {
   "cell_type": "code",
   "execution_count": 1,
   "metadata": {
    "collapsed": true
   },
   "outputs": [],
   "source": [
    "import sqlite3"
   ]
  },
  {
   "cell_type": "code",
   "execution_count": 2,
   "metadata": {
    "collapsed": true
   },
   "outputs": [],
   "source": [
    "#Establishing Connection\n",
    "conn = sqlite3.connect('vs.db')\n",
    "cur = conn.cursor()"
   ]
  },
  {
   "cell_type": "code",
   "execution_count": 3,
   "metadata": {
    "collapsed": true
   },
   "outputs": [],
   "source": [
    "#Create the StackTable\n",
    "def createVSTable():\n",
    "    cur.execute('''CREATE TABLE VSTABLE (\n",
    "               _id INTEGER PRIMARY KEY AUTOINCREMENT,\n",
    "               Date DATE,\n",
    "               Filter TEXT,\n",
    "               Exptime TEXT,\n",
    "               Location TEXT)''')\n",
    "    conn.commit()\n",
    "    return True"
   ]
  },
  {
   "cell_type": "code",
   "execution_count": 4,
   "metadata": {
    "collapsed": true
   },
   "outputs": [],
   "source": [
    "#Create Table for given stack\n",
    "def createStackTable(n, JD_List):\n",
    "    cur.execute('CREATE TABLE Stack_' + n + ' (_starloc TEXT)')\n",
    "    #Adding a new row for JD\n",
    "    for jd in JD_List:\n",
    "        cur.execute('ALTER TABLE Stack_' + n + ' ADD ' + jd + ' INTEGER')\n",
    "    conn.commit()\n",
    "    return True"
   ]
  },
  {
   "cell_type": "code",
   "execution_count": 5,
   "metadata": {
    "collapsed": true
   },
   "outputs": [],
   "source": [
    "#Delete Table name\n",
    "#VSTABLE\n",
    "def deleteTable(name):\n",
    "    cur.execute('DROP TABLE ' + name)\n",
    "    conn.commit()\n",
    "    return True"
   ]
  },
  {
   "cell_type": "code",
   "execution_count": 6,
   "metadata": {
    "collapsed": true
   },
   "outputs": [],
   "source": [
    "#Insert Stack into VSTable\n",
    "def insertStack(stackID, date, filter_type, exptime, loc):\n",
    "    string = (stackID, date, filter_type, exptime, loc)\n",
    "    cur.execute('INSERT INTO VSTABLE(_id, Date, Filter, Exptime, Location) VALUES (?,?,?,?,?)', string)\n",
    "    conn.commit()"
   ]
  },
  {
   "cell_type": "code",
   "execution_count": 37,
   "metadata": {
    "scrolled": true
   },
   "outputs": [
    {
     "data": {
      "text/plain": [
       "<sqlite3.Cursor at 0x1eb56ffd880>"
      ]
     },
     "execution_count": 37,
     "metadata": {},
     "output_type": "execute_result"
    }
   ],
   "source": [
    "#Insert Star into Stack N\n",
    "#TODO make a combination of stackid and starid a unique key\n",
    "def insertStar(stackid, star_loc, jd_mag):\n",
    "    string = ( star_loc)\n",
    "    res = conn.execute('INSERT INTO StarTable(StackID, StarID, S_Location) VALUES (?,?,?)', string)\n",
    "    conn.commit()\n",
    "    return res"
   ]
  },
  {
   "cell_type": "code",
   "execution_count": 1,
   "metadata": {
    "collapsed": true,
    "scrolled": true
   },
   "outputs": [],
   "source": [
    "def insertLightCurve(starid, JD, mag):\n",
    "    if len(JD) == len(mag):\n",
    "        for i in range(0, len(JD)):\n",
    "            string = (starid, JD[i], mag[i])\n",
    "            res = conn.execute('INSERT INTO S_LightCurve(StackID, StarID, S_Location) VALUES (?,?,?)', string)\n",
    "        conn.commit()\n",
    "    else:\n",
    "        raise ValueError('The lengths of JD and Mag are different')\n",
    "        res = None\n",
    "    return res"
   ]
  },
  {
   "cell_type": "code",
   "execution_count": 12,
   "metadata": {},
   "outputs": [
    {
     "name": "stdout",
     "output_type": "stream",
     "text": [
      "0\n"
     ]
    }
   ],
   "source": [
    "cur.execute('SELECT count(StackID) FROM StackTable')\n",
    "res = cur.fetchone()\n",
    "print(res[0])"
   ]
  },
  {
   "cell_type": "code",
   "execution_count": 1,
   "metadata": {},
   "outputs": [
    {
     "ename": "NameError",
     "evalue": "name 'cur' is not defined",
     "output_type": "error",
     "traceback": [
      "\u001b[1;31m---------------------------------------------------------------------------\u001b[0m",
      "\u001b[1;31mNameError\u001b[0m                                 Traceback (most recent call last)",
      "\u001b[1;32m<ipython-input-1-56d5f25418cb>\u001b[0m in \u001b[0;36m<module>\u001b[1;34m()\u001b[0m\n\u001b[0;32m      1\u001b[0m \u001b[1;31m#Closing the DB\u001b[0m\u001b[1;33m\u001b[0m\u001b[1;33m\u001b[0m\u001b[0m\n\u001b[1;32m----> 2\u001b[1;33m \u001b[0mcur\u001b[0m\u001b[1;33m.\u001b[0m\u001b[0mclose\u001b[0m\u001b[1;33m(\u001b[0m\u001b[1;33m)\u001b[0m\u001b[1;33m\u001b[0m\u001b[0m\n\u001b[0m\u001b[0;32m      3\u001b[0m \u001b[0mconn\u001b[0m\u001b[1;33m.\u001b[0m\u001b[0mclose\u001b[0m\u001b[1;33m(\u001b[0m\u001b[1;33m)\u001b[0m\u001b[1;33m\u001b[0m\u001b[0m\n",
      "\u001b[1;31mNameError\u001b[0m: name 'cur' is not defined"
     ]
    }
   ],
   "source": [
    "#Closing the DB\n",
    "cur.close()\n",
    "conn.close()"
   ]
  },
  {
   "cell_type": "code",
   "execution_count": null,
   "metadata": {
    "collapsed": true
   },
   "outputs": [],
   "source": [
    "#The Join operation is one to look into for RDBMS tasks as in connecting databases\n",
    "#Deleting Contents of a Stack needs to be added\n"
   ]
  }
 ],
 "metadata": {
  "kernelspec": {
   "display_name": "Python 3",
   "language": "python",
   "name": "python3"
  },
  "language_info": {
   "codemirror_mode": {
    "name": "ipython",
    "version": 3
   },
   "file_extension": ".py",
   "mimetype": "text/x-python",
   "name": "python",
   "nbconvert_exporter": "python",
   "pygments_lexer": "ipython3",
   "version": "3.6.4"
  }
 },
 "nbformat": 4,
 "nbformat_minor": 2
}
