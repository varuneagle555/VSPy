{
 "cells": [
  {
   "cell_type": "code",
   "execution_count": 2,
   "metadata": {
    "collapsed": true
   },
   "outputs": [],
   "source": [
    "import numpy as np\n",
    "import matplotlib.pyplot as plt\n",
    "from astropy.io import fits\n",
    "import sqlite3\n",
    "import xml.etree.ElementTree as ET\n",
    "\n",
    "from dateutil.parser import parse"
   ]
  },
  {
   "cell_type": "code",
   "execution_count": 3,
   "metadata": {
    "collapsed": true
   },
   "outputs": [],
   "source": [
    "#Establishing Connection\n",
    "conn = sqlite3.connect('vs.db')\n",
    "cur = conn.cursor()"
   ]
  },
  {
   "cell_type": "code",
   "execution_count": 4,
   "metadata": {
    "collapsed": true,
    "scrolled": true
   },
   "outputs": [],
   "source": [
    "folderpath = './varfind/'\n",
    "dat_filename = 'varfind.dat'\n",
    "img_filename = 'varfind.fts'\n",
    "xml_filename = 'varfind.xml'\n",
    "indata = np.loadtxt(folderpath + dat_filename, delimiter=\" \")\n",
    "e = ET.parse(folderpath + xml_filename).getroot()\n",
    "\n",
    "image_file = fits.open(folderpath+img_filename)\n",
    "image_data = image_file[0].data\n",
    "image_header = image_file[0].header\n",
    "\n",
    "JD = image_header[\"JD\"]\n",
    "exposure = image_header[\"EXPTIME\"]\n",
    "filter_type = image_header[\"FILTER\"]\n",
    "date = parse(image_header[\"DATE-OBS\"]).date()\n",
    "location = '('+image_header[\"RA\"]+', '+image_header[\"DEC\"]+')'\n",
    "\n",
    "#Creating Arrays for Data\n",
    "JD = indata[:, 0]\n",
    "mag_JD = indata[:, 1::2]\n",
    "mag_star = np.transpose(mag_JD)\n",
    "magerror_JD = indata[:, ::2]\n",
    "magerror_JD = magerror_JD[:, 1:]\n",
    "\n",
    "image_file.close()"
   ]
  },
  {
   "cell_type": "code",
   "execution_count": 5,
   "metadata": {
    "collapsed": true
   },
   "outputs": [],
   "source": [
    "#Saving FITS Image\n",
    "fig = plt.figure(figsize=(12,12))\n",
    "\n",
    "plt.imshow(image_data, cmap='gray')\n",
    "plt.colorbar()\n",
    "\n",
    "fig.suptitle('NGC 2180 Star Field | Exposure: ' + str(exposure) + '| Filter: ' + filter_type, fontsize=20)\n",
    "\n",
    "fig.savefig('./lightcurves/'+'field' + str(date) + '.png')\n",
    "\n",
    "plt.close()"
   ]
  },
  {
   "cell_type": "code",
   "execution_count": 14,
   "metadata": {},
   "outputs": [
    {
     "name": "stdout",
     "output_type": "stream",
     "text": [
      "1\n"
     ]
    }
   ],
   "source": [
    "#Inserting Stack of Images in VSDB\n",
    "cur.execute('SELECT count(StackID) FROM StackTable')\n",
    "res = cur.fetchone()\n",
    "#Determining the StackId for the given stack\n",
    "stackID = res[0] + 1\n",
    "\n",
    "string = (stackID, date, filter_type, exposure, location)\n",
    "cur.execute('INSERT INTO StackTable(StackID, Date, Filter, Exptime, Location) VALUES (?,?,?,?,?)', string)\n",
    "\n",
    "\n",
    "conn.commit()"
   ]
  },
  {
   "cell_type": "code",
   "execution_count": 15,
   "metadata": {
    "collapsed": true
   },
   "outputs": [],
   "source": [
    "#Assigning Ref coordinates to stars and storing in DB\n",
    "for star in e.iter('s'):\n",
    "    loc = '('+star.get('x') + ', ' + star.get('y')+')'\n",
    "    string = (stackID, star.get('id'), loc)\n",
    "    cur.execute('INSERT INTO StarTable(StackID, StarID, S_Location) VALUES (?,?,?)', string)\n",
    "\n",
    "conn.commit()"
   ]
  },
  {
   "cell_type": "code",
   "execution_count": 22,
   "metadata": {
    "collapsed": true,
    "scrolled": true
   },
   "outputs": [],
   "source": [
    "#Inserting Light Curves\n",
    "for n in range(0, len(mag_star)):\n",
    "    mag = mag_star[n].tolist()\n",
    "    nJD = JD.tolist()\n",
    "    for idx, val in enumerate(reversed(mag)):\n",
    "        if(val >= 99):\n",
    "            mag.pop((len(mag_star[n]) - 1) - idx)\n",
    "            nJD.pop((len(mag_star[n]) - 1) - idx)\n",
    "        else:\n",
    "            string = (n+1, mag[(len(mag_star[n]) - 1) - idx], nJD[(len(mag_star[n]) - 1) - idx])\n",
    "            cur.execute('INSERT INTO S_LightCurve(StarID, JD, Star_Mag) VALUES (?,?,?)', string)\n",
    "\n",
    "conn.commit()"
   ]
  },
  {
   "cell_type": "code",
   "execution_count": 22,
   "metadata": {
    "collapsed": true
   },
   "outputs": [],
   "source": [
    "#TRANSLATE XY COORDS TO RA DEC\n",
    "#FIND PERIODS OF LCs"
   ]
  },
  {
   "cell_type": "code",
   "execution_count": 8,
   "metadata": {
    "scrolled": true
   },
   "outputs": [
    {
     "name": "stdout",
     "output_type": "stream",
     "text": [
      "[[  2.45771087e+06   9.57679000e+00]\n",
      " [  2.45771087e+06   9.55446000e+00]\n",
      " [  2.45771087e+06   9.60835000e+00]\n",
      " [  2.45771087e+06   9.57551000e+00]\n",
      " [  2.45771086e+06   9.45558000e+00]\n",
      " [  2.45771086e+06   9.60395000e+00]\n",
      " [  2.45771086e+06   9.51599000e+00]\n",
      " [  2.45771086e+06   9.55481000e+00]\n",
      " [  2.45771085e+06   9.61305000e+00]\n",
      " [  2.45771085e+06   9.60851000e+00]\n",
      " [  2.45771085e+06   9.56338000e+00]\n",
      " [  2.45771085e+06   9.68532000e+00]\n",
      " [  2.45771085e+06   9.52691000e+00]\n",
      " [  2.45771084e+06   9.49727000e+00]\n",
      " [  2.45771084e+06   9.51577000e+00]\n",
      " [  2.45771084e+06   9.53691000e+00]\n",
      " [  2.45771084e+06   9.55012000e+00]\n",
      " [  2.45771083e+06   9.47704000e+00]\n",
      " [  2.45771083e+06   9.46484000e+00]\n",
      " [  2.45771083e+06   9.51097000e+00]\n",
      " [  2.45771083e+06   9.52132000e+00]\n",
      " [  2.45771083e+06   9.54554000e+00]\n",
      " [  2.45771082e+06   9.65347000e+00]\n",
      " [  2.45771082e+06   9.54724000e+00]\n",
      " [  2.45771082e+06   9.57763000e+00]\n",
      " [  2.45771082e+06   9.45780000e+00]\n",
      " [  2.45771081e+06   9.46888000e+00]\n",
      " [  2.45771081e+06   9.50601000e+00]\n",
      " [  2.45771081e+06   9.51567000e+00]\n",
      " [  2.45771081e+06   9.67751000e+00]\n",
      " [  2.45771081e+06   9.47974000e+00]\n",
      " [  2.45771080e+06   9.63072000e+00]\n",
      " [  2.45771080e+06   9.52503000e+00]\n",
      " [  2.45771080e+06   9.66074000e+00]\n",
      " [  2.45771080e+06   9.54299000e+00]\n",
      " [  2.45771079e+06   9.54646000e+00]\n",
      " [  2.45771079e+06   9.51764000e+00]\n",
      " [  2.45771079e+06   9.60357000e+00]\n",
      " [  2.45771079e+06   9.56775000e+00]\n",
      " [  2.45771078e+06   9.48835000e+00]\n",
      " [  2.45771078e+06   9.65778000e+00]\n",
      " [  2.45771078e+06   9.61336000e+00]\n",
      " [  2.45771078e+06   9.68646000e+00]\n",
      " [  2.45771078e+06   9.68028000e+00]\n",
      " [  2.45771077e+06   9.58991000e+00]\n",
      " [  2.45771077e+06   9.52172000e+00]\n",
      " [  2.45771077e+06   9.57909000e+00]\n",
      " [  2.45771077e+06   9.69031000e+00]\n",
      " [  2.45771076e+06   9.60447000e+00]\n",
      " [  2.45771076e+06   9.59607000e+00]\n",
      " [  2.45771076e+06   9.60489000e+00]\n",
      " [  2.45771076e+06   9.56411000e+00]\n",
      " [  2.45771076e+06   9.58475000e+00]\n",
      " [  2.45771075e+06   9.61262000e+00]\n",
      " [  2.45771075e+06   9.76997000e+00]\n",
      " [  2.45771075e+06   9.57644000e+00]\n",
      " [  2.45771075e+06   9.67968000e+00]\n",
      " [  2.45771074e+06   9.52951000e+00]\n",
      " [  2.45771074e+06   9.51804000e+00]\n",
      " [  2.45771074e+06   9.51444000e+00]\n",
      " [  2.45771074e+06   9.62231000e+00]\n",
      " [  2.45771073e+06   9.71314000e+00]\n",
      " [  2.45771073e+06   9.59049000e+00]\n",
      " [  2.45771073e+06   9.63269000e+00]\n",
      " [  2.45771073e+06   9.63121000e+00]\n",
      " [  2.45771073e+06   9.63188000e+00]\n",
      " [  2.45771072e+06   9.64502000e+00]\n",
      " [  2.45771072e+06   9.60497000e+00]\n",
      " [  2.45771072e+06   9.62605000e+00]\n",
      " [  2.45771072e+06   9.55869000e+00]\n",
      " [  2.45771071e+06   9.60288000e+00]\n",
      " [  2.45771071e+06   9.64699000e+00]\n",
      " [  2.45771071e+06   9.74390000e+00]\n",
      " [  2.45771071e+06   9.65262000e+00]\n",
      " [  2.45771071e+06   9.71208000e+00]\n",
      " [  2.45771070e+06   9.64773000e+00]\n",
      " [  2.45771070e+06   9.80962000e+00]\n",
      " [  2.45771070e+06   9.74709000e+00]\n",
      " [  2.45771070e+06   9.62133000e+00]\n",
      " [  2.45771069e+06   9.60407000e+00]\n",
      " [  2.45771069e+06   9.58445000e+00]\n",
      " [  2.45771069e+06   9.80900000e+00]\n",
      " [  2.45771069e+06   9.69280000e+00]\n",
      " [  2.45771069e+06   9.68465000e+00]\n",
      " [  2.45771068e+06   9.57651000e+00]\n",
      " [  2.45771068e+06   9.64614000e+00]\n",
      " [  2.45771068e+06   9.59421000e+00]\n",
      " [  2.45771068e+06   9.64766000e+00]\n",
      " [  2.45771067e+06   9.65965000e+00]\n",
      " [  2.45771067e+06   9.63351000e+00]\n",
      " [  2.45771067e+06   9.64882000e+00]\n",
      " [  2.45771067e+06   9.74419000e+00]\n",
      " [  2.45771066e+06   9.68196000e+00]\n",
      " [  2.45771066e+06   9.74666000e+00]\n",
      " [  2.45771066e+06   9.70621000e+00]\n",
      " [  2.45771066e+06   9.79271000e+00]\n",
      " [  2.45771066e+06   9.66005000e+00]\n",
      " [  2.45771065e+06   9.88996000e+00]\n",
      " [  2.45771065e+06   9.77449000e+00]\n",
      " [  2.45771065e+06   9.87007000e+00]]\n"
     ]
    }
   ],
   "source": [
    "#Pulling Lightcurve from DB\n",
    "cur.execute('SELECT Star_Mag, JD FROM S_LightCurve WHERE StarID = 1;')\n",
    "res = np.array(cur.fetchall())\n",
    "print(res[:,:])"
   ]
  },
  {
   "cell_type": "code",
   "execution_count": 23,
   "metadata": {
    "collapsed": true
   },
   "outputs": [],
   "source": [
    "#If a comp star does not have a data point, do you remove all data points for all comp stars or negate that star from the average for that point\n",
    "def defCompStars(stars):\n",
    "    comp_mag_list = [mag_star[s] for s in stars]\n",
    "    comp_JD = JD.tolist()\n",
    "    \n",
    "    comp_mag = np.zeros_like(comp_mag_list[0])\n",
    "    '''for s in stars:\n",
    "        comp_mag = np.add(comp_mag, mag_star[s])\n",
    "        \n",
    "    comp_mag /= len(stars)\n",
    "    #Is this step necessary\n",
    "    comp_mag = np.ndarray.tolist(comp_mag)\n",
    "    \n",
    "    #Popping Comp Star Values where a comp is null\n",
    "    for idx, val in enumerate(reversed(comp_mag)):\n",
    "        del_el = False\n",
    "        index = (len(mag_star[0]) - 1) - idx\n",
    "        for n in stars:\n",
    "            del_el = del_el or (mag_star[n][index] >= 99)\n",
    "        if del_el:\n",
    "            print(index)\n",
    "            comp_mag.pop(index)\n",
    "            comp_JD.pop(index)\n",
    "    '''\n",
    "    return comp_mag, comp_JD"
   ]
  },
  {
   "cell_type": "code",
   "execution_count": 24,
   "metadata": {},
   "outputs": [
    {
     "name": "stdout",
     "output_type": "stream",
     "text": [
      "100\n"
     ]
    }
   ],
   "source": [
    "c_mag, c_JD = defCompStars([1, 2, 500])\n",
    "print(len(c_mag))"
   ]
  },
  {
   "cell_type": "code",
   "execution_count": 25,
   "metadata": {
    "collapsed": true
   },
   "outputs": [],
   "source": [
    "#Plotting the nth star's light curve\n",
    "def plotLightCurve(n):\n",
    "    \n",
    "    mag = mag_star[n].tolist()\n",
    "    nJD = JD.tolist()\n",
    "    for idx, val in enumerate(reversed(mag)):\n",
    "        if(val >= 99):\n",
    "            mag.pop((len(mag_star[n]) - 1) - idx)\n",
    "            nJD.pop((len(mag_star[n]) - 1) - idx)\n",
    "\n",
    "    fig = plt.figure(figsize=(20,8))\n",
    "    plt.scatter(nJD, mag)\n",
    "    plt.xlabel(r'${\\rm JD}$', fontsize=18)\n",
    "    plt.ylabel(r'${\\rm Mag}$', fontsize=18)\n",
    "    plt.xlim(np.min(nJD)-0.01, np.max(nJD)+0.01)\n",
    "    plt.ylim((np.min(mag)-0.3, np.max(mag)+0.3))\n",
    "    fig.suptitle('NGC 2180: Star ' + str(n) + '| Date: ' + str(date), fontsize=18)\n",
    "    fig.savefig('./lightcurves/'+'lc_' + str(n) + '.png')\n",
    "    plt.close()"
   ]
  },
  {
   "cell_type": "code",
   "execution_count": 29,
   "metadata": {
    "collapsed": true
   },
   "outputs": [],
   "source": [
    "plotLightCurve(516)"
   ]
  },
  {
   "cell_type": "markdown",
   "metadata": {
    "collapsed": true
   },
   "source": [
    "# Links\n",
    "https://d17h27t6h515a5.cloudfront.net/topher/2016/September/57ed880e_sql-sqlite-commands-cheat-sheet/sql-sqlite-commands-cheat-sheet.pdf\n",
    "https://s3.amazonaws.com/michael-kennedy/downloads/DM/python_cheat_sheet.pdf\n"
   ]
  },
  {
   "cell_type": "code",
   "execution_count": null,
   "metadata": {
    "collapsed": true
   },
   "outputs": [],
   "source": []
  }
 ],
 "metadata": {
  "kernelspec": {
   "display_name": "Python 3",
   "language": "python",
   "name": "python3"
  },
  "language_info": {
   "codemirror_mode": {
    "name": "ipython",
    "version": 3
   },
   "file_extension": ".py",
   "mimetype": "text/x-python",
   "name": "python",
   "nbconvert_exporter": "python",
   "pygments_lexer": "ipython3",
   "version": "3.6.4"
  }
 },
 "nbformat": 4,
 "nbformat_minor": 2
}
