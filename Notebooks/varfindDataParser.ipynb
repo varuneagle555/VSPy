{
 "cells": [
  {
   "cell_type": "code",
   "execution_count": 2,
   "metadata": {
    "collapsed": true
   },
   "outputs": [],
   "source": [
    "import numpy as np\n",
    "import matplotlib.pyplot as plt\n",
    "from astropy.io import fits\n",
    "import sqlite3\n",
    "import xml.etree.ElementTree as ET\n",
    "\n",
    "from dateutil.parser import parse"
   ]
  },
  {
   "cell_type": "code",
   "execution_count": 3,
   "metadata": {
    "collapsed": true
   },
   "outputs": [],
   "source": [
    "#Establishing Connection\n",
    "conn = sqlite3.connect('vs.db')\n",
    "cur = conn.cursor()"
   ]
  },
  {
   "cell_type": "code",
   "execution_count": 4,
   "metadata": {
    "collapsed": true,
    "scrolled": true
   },
   "outputs": [],
   "source": [
    "folderpath = './varfind/'\n",
    "dat_filename = 'varfind.dat'\n",
    "img_filename = 'varfind.fts'\n",
    "xml_filename = 'varfind.xml'\n",
    "indata = np.loadtxt(folderpath + dat_filename, delimiter=\" \")\n",
    "e = ET.parse(folderpath + xml_filename).getroot()\n",
    "\n",
    "image_file = fits.open(folderpath+img_filename)\n",
    "image_data = image_file[0].data\n",
    "image_header = image_file[0].header\n",
    "\n",
    "JD = image_header[\"JD\"]\n",
    "exposure = image_header[\"EXPTIME\"]\n",
    "filter_type = image_header[\"FILTER\"]\n",
    "date = parse(image_header[\"DATE-OBS\"]).date()\n",
    "location = '('+image_header[\"RA\"]+', '+image_header[\"DEC\"]+')'\n",
    "\n",
    "#Creating Arrays for Data\n",
    "JD = indata[:, 0]\n",
    "mag_JD = indata[:, 1::2]\n",
    "mag_star = np.transpose(mag_JD)\n",
    "magerror_JD = indata[:, ::2]\n",
    "magerror_JD = magerror_JD[:, 1:]\n",
    "\n",
    "image_file.close()"
   ]
  },
  {
   "cell_type": "code",
   "execution_count": 5,
   "metadata": {
    "collapsed": true
   },
   "outputs": [],
   "source": [
    "#Saving FITS Image\n",
    "fig = plt.figure(figsize=(12,12))\n",
    "\n",
    "plt.imshow(image_data, cmap='gray')\n",
    "plt.colorbar()\n",
    "\n",
    "fig.suptitle('NGC 2180 Star Field | Exposure: ' + str(exposure) + '| Filter: ' + filter_type, fontsize=20)\n",
    "\n",
    "fig.savefig('./lightcurves/'+'field' + str(date) + '.png')\n",
    "\n",
    "plt.close()"
   ]
  },
  {
   "cell_type": "code",
   "execution_count": 14,
   "metadata": {},
   "outputs": [
    {
     "name": "stdout",
     "output_type": "stream",
     "text": [
      "1\n"
     ]
    }
   ],
   "source": [
    "#Inserting Stack of Images in VSDB\n",
    "cur.execute('SELECT count(StackID) FROM StackTable')\n",
    "res = cur.fetchone()\n",
    "#Determining the StackId for the given stack\n",
    "stackID = res[0] + 1\n",
    "\n",
    "string = (stackID, date, filter_type, exposure, location)\n",
    "cur.execute('INSERT INTO StackTable(StackID, Date, Filter, Exptime, Location) VALUES (?,?,?,?,?)', string)\n",
    "\n",
    "conn.commit()"
   ]
  },
  {
   "cell_type": "code",
   "execution_count": 15,
   "metadata": {
    "collapsed": true
   },
   "outputs": [],
   "source": [
    "#Assigning Ref coordinates to stars and storing in DB\n",
    "for star in e.iter('s'):\n",
    "    loc = '('+star.get('x') + ', ' + star.get('y')+')'\n",
    "    string = (stackID, star.get('id'), loc)\n",
    "    cur.execute('INSERT INTO StarTable(StackID, StarID, S_Location) VALUES (?,?,?)', string)\n",
    "\n",
    "conn.commit()"
   ]
  },
  {
   "cell_type": "code",
   "execution_count": 22,
   "metadata": {
    "collapsed": true,
    "scrolled": true
   },
   "outputs": [],
   "source": [
    "for n in range(0, len(mag_star)):\n",
    "    mag = mag_star[n].tolist()\n",
    "    nJD = JD.tolist()\n",
    "    for idx, val in enumerate(reversed(mag)):\n",
    "        if(val >= 99):\n",
    "            mag.pop((len(mag_star[n]) - 1) - idx)\n",
    "            nJD.pop((len(mag_star[n]) - 1) - idx)\n",
    "        else:\n",
    "            string = (n+1, mag[(len(mag_star[n]) - 1) - idx], nJD[(len(mag_star[n]) - 1) - idx])\n",
    "            cur.execute('INSERT INTO S_LightCurve(StarID, JD, Star_Mag) VALUES (?,?,?)', string)\n",
    "\n",
    "conn.commit()"
   ]
  },
  {
   "cell_type": "code",
   "execution_count": 22,
   "metadata": {
    "collapsed": true
   },
   "outputs": [],
   "source": [
    "#TRANSLATE XY COORDS TO RA DEC\n",
    "#FIND PERIODS OF LCs"
   ]
  },
  {
   "cell_type": "code",
   "execution_count": 21,
   "metadata": {
    "scrolled": true
   },
   "outputs": [
    {
     "name": "stdout",
     "output_type": "stream",
     "text": [
      "[ 2457710.8735822  2457710.8712674  2457710.8689988  2457710.8667535\n",
      "  2457710.8645313  2457710.8623206  2457710.8593808  2457710.8570891\n",
      "  2457710.8548322  2457710.8525289  2457710.8503067  2457710.8480498\n",
      "  2457710.8457928  2457710.843478   2457710.8411748  2457710.8389988\n",
      "  2457710.8367188  2457710.8345313  2457710.8322512  2457710.8299595\n",
      "  2457710.8277025  2457710.8253877  2457710.8231308  2457710.8208391\n",
      "  2457710.8185937  2457710.8163137  2457710.8140451  2457710.8118113\n",
      "  2457710.8095775  2457710.8072859  2457710.8050174  2457710.802853\n",
      "  2457710.8006192  2457710.7983391  2457710.7960243  2457710.7937326\n",
      "  2457710.7915104  2457710.7891609  2457710.7868576  2457710.7846123\n",
      "  2457710.7823206  2457710.7800752  2457710.777772   2457710.775434\n",
      "  2457710.7731655  2457710.770897   2457710.7686516  2457710.7664063\n",
      "  2457710.764184   2457710.7618808  2457710.759647   2457710.7574132\n",
      "  2457710.7551331  2457710.752853   2457710.7505498  2457710.7483623\n",
      "  2457710.7461285  2457710.7438715  2457710.7416493  2457710.7394618\n",
      "  2457710.7371817  2457710.73489    2457710.73261    2457710.7303877\n",
      "  2457710.7281539  2457710.7259201  2457710.7236979  2457710.7213484\n",
      "  2457710.7191493  2457710.7168808  2457710.7146123  2457710.7123785\n",
      "  2457710.7100637  2457710.7077257  2457710.7054572  2457710.7031771\n",
      "  2457710.700978   2457710.69864    2457710.6963484  2457710.6940914\n",
      "  2457710.6918692  2457710.6895544  2457710.6873785  2457710.6851678\n",
      "  2457710.6828646  2457710.6806076  2457710.6783275  2457710.6760127\n",
      "  2457710.6737558  2457710.671522   2457710.6692303  2457710.6670428\n",
      "  2457710.6647396  2457710.6624248  2457710.6602488  2457710.6580961\n",
      "  2457710.6559433  2457710.6537905  2457710.651603   2457710.6493461]\n"
     ]
    }
   ],
   "source": [
    "#Pulling Lightcurve from DB\n",
    "cur.execute('SELECT Star_Mag, JD FROM S_LightCurve WHERE StarID = 1;')\n",
    "res = np.array(cur.fetchall())\n",
    "print(res[:,0])"
   ]
  },
  {
   "cell_type": "code",
   "execution_count": 23,
   "metadata": {
    "collapsed": true
   },
   "outputs": [],
   "source": [
    "#If a comp star does not have a data point, do you remove all data points for all comp stars or negate that star from the average for that point\n",
    "def defCompStars(stars):\n",
    "    comp_mag_list = [mag_star[s] for s in stars]\n",
    "    comp_JD = JD.tolist()\n",
    "    \n",
    "    comp_mag = np.zeros_like(comp_mag_list[0])\n",
    "    '''for s in stars:\n",
    "        comp_mag = np.add(comp_mag, mag_star[s])\n",
    "        \n",
    "    comp_mag /= len(stars)\n",
    "    #Is this step necessary\n",
    "    comp_mag = np.ndarray.tolist(comp_mag)\n",
    "    \n",
    "    #Popping Comp Star Values where a comp is null\n",
    "    for idx, val in enumerate(reversed(comp_mag)):\n",
    "        del_el = False\n",
    "        index = (len(mag_star[0]) - 1) - idx\n",
    "        for n in stars:\n",
    "            del_el = del_el or (mag_star[n][index] >= 99)\n",
    "        if del_el:\n",
    "            print(index)\n",
    "            comp_mag.pop(index)\n",
    "            comp_JD.pop(index)\n",
    "    '''\n",
    "    return comp_mag, comp_JD"
   ]
  },
  {
   "cell_type": "code",
   "execution_count": 24,
   "metadata": {},
   "outputs": [
    {
     "name": "stdout",
     "output_type": "stream",
     "text": [
      "100\n"
     ]
    }
   ],
   "source": [
    "c_mag, c_JD = defCompStars([1, 2, 500])\n",
    "print(len(c_mag))"
   ]
  },
  {
   "cell_type": "code",
   "execution_count": 25,
   "metadata": {
    "collapsed": true
   },
   "outputs": [],
   "source": [
    "#Plotting the nth star's light curve\n",
    "def plotLightCurve(n):\n",
    "    \n",
    "    mag = mag_star[n].tolist()\n",
    "    nJD = JD.tolist()\n",
    "    for idx, val in enumerate(reversed(mag)):\n",
    "        if(val >= 99):\n",
    "            mag.pop((len(mag_star[n]) - 1) - idx)\n",
    "            nJD.pop((len(mag_star[n]) - 1) - idx)\n",
    "\n",
    "    fig = plt.figure(figsize=(20,8))\n",
    "    plt.scatter(nJD, mag)\n",
    "    plt.xlabel(r'${\\rm JD}$', fontsize=18)\n",
    "    plt.ylabel(r'${\\rm Mag}$', fontsize=18)\n",
    "    plt.xlim(np.min(nJD)-0.01, np.max(nJD)+0.01)\n",
    "    plt.ylim((np.min(mag)-0.3, np.max(mag)+0.3))\n",
    "    fig.suptitle('NGC 2180: Star ' + str(n) + '| Date: ' + str(date), fontsize=18)\n",
    "    fig.savefig('./lightcurves/'+'lc_' + str(n) + '.png')\n",
    "    plt.close()"
   ]
  },
  {
   "cell_type": "code",
   "execution_count": 29,
   "metadata": {
    "collapsed": true
   },
   "outputs": [],
   "source": [
    "plotLightCurve(516)"
   ]
  },
  {
   "cell_type": "markdown",
   "metadata": {
    "collapsed": true
   },
   "source": [
    "# Links\n",
    "https://d17h27t6h515a5.cloudfront.net/topher/2016/September/57ed880e_sql-sqlite-commands-cheat-sheet/sql-sqlite-commands-cheat-sheet.pdf\n",
    "https://s3.amazonaws.com/michael-kennedy/downloads/DM/python_cheat_sheet.pdf\n"
   ]
  },
  {
   "cell_type": "code",
   "execution_count": null,
   "metadata": {
    "collapsed": true
   },
   "outputs": [],
   "source": []
  }
 ],
 "metadata": {
  "kernelspec": {
   "display_name": "Python 3",
   "language": "python",
   "name": "python3"
  },
  "language_info": {
   "codemirror_mode": {
    "name": "ipython",
    "version": 3
   },
   "file_extension": ".py",
   "mimetype": "text/x-python",
   "name": "python",
   "nbconvert_exporter": "python",
   "pygments_lexer": "ipython3",
   "version": "3.6.4"
  }
 },
 "nbformat": 4,
 "nbformat_minor": 2
}
