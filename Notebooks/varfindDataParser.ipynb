{
 "cells": [
  {
   "cell_type": "code",
   "execution_count": 48,
   "metadata": {
    "collapsed": true
   },
   "outputs": [],
   "source": [
    "import numpy as np\n",
    "import matplotlib.pyplot as plt\n",
    "\n",
    "import sqlite3"
   ]
  },
  {
   "cell_type": "code",
   "execution_count": 4,
   "metadata": {
    "collapsed": true
   },
   "outputs": [],
   "source": [
    "filepath = './varfind/'\n",
    "filename = 'varfind.dat'\n",
    "indata = np.loadtxt(filepath + filename, delimiter=\" \")\n",
    "\n",
    "#Creating Arrays for Data\n",
    "JD = indata[:, 0]\n",
    "mag_JD = indata[:, 1::2]\n",
    "mag_star = np.transpose(mag_JD)\n",
    "magerror_JD = indata[:, ::2]\n",
    "magerror_JD = magerror_JD[:, 1:]"
   ]
  },
  {
   "cell_type": "code",
   "execution_count": null,
   "metadata": {
    "collapsed": true
   },
   "outputs": [],
   "source": [
    "#READ XML FILE\n",
    "#TRANSLATE XY COORDS TO RA DEC\n",
    "#FIND PERIODS OF LCs\n",
    "#PULL DATA AND COMPARE LCs"
   ]
  },
  {
   "cell_type": "code",
   "execution_count": 46,
   "metadata": {
    "collapsed": true
   },
   "outputs": [],
   "source": [
    "#Plotting the nth star's light curve\n",
    "def plotLightCurve(n):\n",
    "    \n",
    "    mag = mag_star[n].tolist()\n",
    "    nJD = JD.tolist()\n",
    "    for idx, val in enumerate(mag):\n",
    "        if(val >= 99):\n",
    "            mag.pop(idx)\n",
    "            nJD.pop(idx)\n",
    "\n",
    "    fig = plt.figure(figsize=(20,8))\n",
    "    \n",
    "    plt.scatter(nJD, mag)\n",
    "\n",
    "    plt.xlabel(r'${\\rm JD}$', fontsize=18)\n",
    "    plt.ylabel(r'${\\rm Mag}$', fontsize=18)\n",
    "    plt.xlim(np.min(nJD)-0.01, np.max(nJD)+0.01)\n",
    "    plt.ylim((np.min(mag)-0.3, np.max(mag)+0.3))\n",
    "\n",
    "    fig.suptitle('NGC 2180: Star ' + str(n), fontsize=18)\n",
    "\n",
    "    fig.savefig('./lightcurves/'+'lc_' + str(n) + '.png')\n",
    "    plt.close()"
   ]
  },
  {
   "cell_type": "code",
   "execution_count": 51,
   "metadata": {},
   "outputs": [],
   "source": [
    "#In Progress\n",
    "def writeDB():\n",
    "    sqlite_file = 'varstar_db.sqlite' # name of the sqlite database file\n",
    "    table_name_description = 'StarDescription' # name of the table to be created\n",
    "    table_name_value = 'StarMag' # name of the table to be created\n",
    "    \n",
    "    conn = sqlite3.connect(sqlite_file)\n",
    "    c = conn.cursor()\n",
    "    \n",
    "    \n",
    "    \n",
    "    conn.commit()\n",
    "    conn.close()"
   ]
  }
 ],
 "metadata": {
  "kernelspec": {
   "display_name": "Python 3",
   "language": "python",
   "name": "python3"
  },
  "language_info": {
   "codemirror_mode": {
    "name": "ipython",
    "version": 3
   },
   "file_extension": ".py",
   "mimetype": "text/x-python",
   "name": "python",
   "nbconvert_exporter": "python",
   "pygments_lexer": "ipython3",
   "version": "3.6.4"
  }
 },
 "nbformat": 4,
 "nbformat_minor": 2
}
