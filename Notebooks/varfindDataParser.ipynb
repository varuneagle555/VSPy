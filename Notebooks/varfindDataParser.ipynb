{
 "cells": [
  {
   "cell_type": "code",
   "execution_count": 1,
   "metadata": {
    "collapsed": true
   },
   "outputs": [],
   "source": [
    "import numpy as np\n",
    "import matplotlib.pyplot as plt\n",
    "from astropy.io import fits\n",
    "import sqlite3\n",
    "\n",
    "from dateutil.parser import parse"
   ]
  },
  {
   "cell_type": "code",
   "execution_count": 2,
   "metadata": {
    "collapsed": true
   },
   "outputs": [],
   "source": [
    "folderpath = './varfind/'\n",
    "dat_filename = 'varfind.dat'\n",
    "img_filename = 'varfind.fts'\n",
    "indata = np.loadtxt(folderpath + dat_filename, delimiter=\" \")\n",
    "\n",
    "image_file = fits.open(folderpath+img_filename)\n",
    "image_data = image_file[0].data\n",
    "image_header = image_file[0].header\n",
    "\n",
    "JD = image_header[\"JD\"]\n",
    "exposure = image_header[\"EXPTIME\"]\n",
    "filter_type = image_header[\"FILTER\"]\n",
    "date = parse(image_header[\"DATE-OBS\"]).date()\n",
    "\n",
    "#Creating Arrays for Data\n",
    "JD = indata[:, 0]\n",
    "mag_JD = indata[:, 1::2]\n",
    "mag_star = np.transpose(mag_JD)\n",
    "magerror_JD = indata[:, ::2]\n",
    "magerror_JD = magerror_JD[:, 1:]\n",
    "\n",
    "image_file.close()"
   ]
  },
  {
   "cell_type": "code",
   "execution_count": 3,
   "metadata": {
    "collapsed": true
   },
   "outputs": [],
   "source": [
    "#Saving FITS Image\n",
    "fig = plt.figure(figsize=(12,12))\n",
    "\n",
    "plt.imshow(image_data, cmap='gray')\n",
    "plt.colorbar()\n",
    "\n",
    "fig.suptitle('NGC 2180 Star Field | Exposure: ' + str(exposure) + '| Filter: ' + filter_type, fontsize=20)\n",
    "\n",
    "fig.savefig('./lightcurves/'+'field' + str(date) + '.png')\n",
    "\n",
    "plt.close()"
   ]
  },
  {
   "cell_type": "code",
   "execution_count": 4,
   "metadata": {
    "collapsed": true
   },
   "outputs": [],
   "source": [
    "#READ XML FILE\n",
    "#TRANSLATE XY COORDS TO RA DEC\n",
    "#FIND PERIODS OF LCs\n",
    "#DB setup\n",
    "#RNNs and Feature Extraction\n",
    "#Catalina\n",
    "#PULL DATA AND COMPARE LCs"
   ]
  },
  {
   "cell_type": "code",
   "execution_count": 5,
   "metadata": {
    "collapsed": true
   },
   "outputs": [],
   "source": [
    "#If a comp star does not have a data point, do you remove all data points for all comp stars or negate that star from the average for that point\n",
    "def defCompStars(stars):\n",
    "    comp_mag = [mag_star[s] for s in stars]\n",
    "    comp_JD = JD.tolist()\n",
    "    '''for s in stars:\n",
    "        comp_mag = np.add(comp_mag, mag_star[s])\n",
    "        \n",
    "    comp_mag /= len(stars)\n",
    "    #Is this step necessary\n",
    "    comp_mag = np.ndarray.tolist(comp_mag)\n",
    "    \n",
    "    #Popping Comp Star Values where a comp is null\n",
    "    for idx, val in enumerate(reversed(comp_mag)):\n",
    "        del_el = False\n",
    "        index = (len(mag_star[0]) - 1) - idx\n",
    "        for n in stars:\n",
    "            del_el = del_el or (mag_star[n][index] >= 99)\n",
    "        if del_el:\n",
    "            print(index)\n",
    "            comp_mag.pop(index)\n",
    "            comp_JD.pop(index)\n",
    "    '''\n",
    "    return comp_mag, comp_JD"
   ]
  },
  {
   "cell_type": "code",
   "execution_count": 6,
   "metadata": {},
   "outputs": [
    {
     "name": "stdout",
     "output_type": "stream",
     "text": [
      "100\n"
     ]
    }
   ],
   "source": [
    "c_mag, c_JD = defCompStars([1, 2, 500])\n",
    "print(len(c_mag[1]))"
   ]
  },
  {
   "cell_type": "code",
   "execution_count": 7,
   "metadata": {
    "collapsed": true
   },
   "outputs": [],
   "source": [
    "#Plotting the nth star's light curve\n",
    "def plotLightCurve(n):\n",
    "    \n",
    "    mag = mag_star[n].tolist()\n",
    "    nJD = JD.tolist()\n",
    "    for idx, val in enumerate(reversed(mag)):\n",
    "        if(val >= 99):\n",
    "            mag.pop((len(mag_star[n]) - 1) - idx)\n",
    "            nJD.pop((len(mag_star[n]) - 1) - idx)\n",
    "\n",
    "    fig = plt.figure(figsize=(20,8))\n",
    "    plt.scatter(nJD, mag)\n",
    "    plt.xlabel(r'${\\rm JD}$', fontsize=18)\n",
    "    plt.ylabel(r'${\\rm Mag}$', fontsize=18)\n",
    "    plt.xlim(np.min(nJD)-0.01, np.max(nJD)+0.01)\n",
    "    plt.ylim((np.min(mag)-0.3, np.max(mag)+0.3))\n",
    "    fig.suptitle('NGC 2180: Star ' + str(n) + '| Date: ' + str(date), fontsize=18)\n",
    "    fig.savefig('./lightcurves/'+'lc_' + str(n) + '.png')\n",
    "    plt.close()"
   ]
  },
  {
   "cell_type": "code",
   "execution_count": null,
   "metadata": {
    "collapsed": true
   },
   "outputs": [],
   "source": []
  }
 ],
 "metadata": {
  "kernelspec": {
   "display_name": "Python 3",
   "language": "python",
   "name": "python3"
  },
  "language_info": {
   "codemirror_mode": {
    "name": "ipython",
    "version": 3
   },
   "file_extension": ".py",
   "mimetype": "text/x-python",
   "name": "python",
   "nbconvert_exporter": "python",
   "pygments_lexer": "ipython3",
   "version": "3.6.4"
  }
 },
 "nbformat": 4,
 "nbformat_minor": 2
}
